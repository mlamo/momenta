{
 "cells": [
  {
   "cell_type": "code",
   "execution_count": 1,
   "metadata": {},
   "outputs": [
    {
     "name": "stderr",
     "output_type": "stream",
     "text": [
      "/home/lamoureuxm/anaconda3/envs/env_jang/lib/python3.11/site-packages/tqdm/auto.py:21: TqdmWarning: IProgress not found. Please update jupyter and ipywidgets. See https://ipywidgets.readthedocs.io/en/stable/user_install.html\n",
      "  from .autonotebook import tqdm as notebook_tqdm\n"
     ]
    }
   ],
   "source": [
    "import warnings\n",
    "warnings.filterwarnings(\"ignore\", \"Wswiglal-redir-stdio\")\n",
    "\n",
    "import healpy as hp\n",
    "import matplotlib.pyplot as plt\n",
    "import numpy as np\n",
    "import astropy.units as u\n",
    "\n",
    "import jang.utils.conversions\n",
    "from jang.io import GW, NuDetector, SuperNuDetector, Parameters\n",
    "from jang.io.neutrinos import BackgroundGaussian, BackgroundFixed, BackgroundPoisson\n",
    "import jang.analysis.limits as limits\n",
    "\n",
    "%matplotlib inline"
   ]
  },
  {
   "cell_type": "markdown",
   "metadata": {},
   "source": [
    "# Starting remarks\n",
    "* For the notebook to run, you need to install `jang` as a package (`pip install -e .` from the root directory).\n",
    "* It is better to keep this code at its current location as there are some relative paths defined here, though you may modify it."
   ]
  },
  {
   "cell_type": "markdown",
   "metadata": {},
   "source": [
    "# Setup"
   ]
  },
  {
   "cell_type": "markdown",
   "metadata": {},
   "source": [
    "## General parameters"
   ]
  },
  {
   "cell_type": "code",
   "execution_count": 2,
   "metadata": {},
   "outputs": [],
   "source": [
    "parameters = Parameters(\"input_files/config.yaml\")\n",
    "parameters.set_models(\"x**-2\", jang.utils.conversions.JetIsotropic())"
   ]
  },
  {
   "cell_type": "markdown",
   "metadata": {},
   "source": [
    "## GW-side definitions"
   ]
  },
  {
   "cell_type": "code",
   "execution_count": 3,
   "metadata": {},
   "outputs": [
    {
     "name": "stderr",
     "output_type": "stream",
     "text": [
      "[2024-05-10 14:35:52,198:jang:INFO] [GW] Fits is loaded from the file GW190412_PublicationSamples.fits\n",
      "[2024-05-10 14:35:52,199:jang:INFO] [GW] Samples are loaded from the file GW190412_subset.h5\n"
     ]
    }
   ],
   "source": [
    "gw = GW(\n",
    "        \"GW190412\", \n",
    "        \"input_files/gw_catalogs/GW190412/GW190412_PublicationSamples.fits\", \n",
    "        \"input_files/gw_catalogs/GW190412/GW190412_subset.h5\"\n",
    ")\n",
    "gw.set_parameters(parameters)"
   ]
  },
  {
   "cell_type": "markdown",
   "metadata": {},
   "source": [
    "## Neutrino-side definitions"
   ]
  },
  {
   "cell_type": "markdown",
   "metadata": {},
   "source": [
    "### Detector definitions"
   ]
  },
  {
   "cell_type": "markdown",
   "metadata": {},
   "source": [
    "ANTARES is defined by the YAML config file `detector_antares.yaml`. It specifies there are four different analysis samples with their names. Similarly, Super-Kamiokande is defined with three analysis samples.\n"
   ]
  },
  {
   "cell_type": "code",
   "execution_count": 4,
   "metadata": {},
   "outputs": [
    {
     "name": "stderr",
     "output_type": "stream",
     "text": [
      "[2024-05-10 14:35:52,226:jang:INFO] [NuDetector] Object is loaded from the file input_files/detector_antares.yaml.\n",
      "[2024-05-10 14:35:52,229:jang:INFO] [NuDetector] Object is loaded from the file input_files/detector_superk.yaml.\n"
     ]
    }
   ],
   "source": [
    "antares = NuDetector(\"input_files/detector_antares.yaml\")\n",
    "superkamiokande = NuDetector(\"input_files/detector_superk.yaml\")"
   ]
  },
  {
   "cell_type": "markdown",
   "metadata": {},
   "source": [
    "One can also define its own detector using a `dict` object."
   ]
  },
  {
   "cell_type": "code",
   "execution_count": 5,
   "metadata": {},
   "outputs": [
    {
     "name": "stderr",
     "output_type": "stream",
     "text": [
      "[2024-05-10 14:35:52,250:jang:INFO] [NuDetector] Object is loaded from a dictionary object.\n"
     ]
    }
   ],
   "source": [
    "mydetector = NuDetector({\n",
    "    \"name\": \"MyLittleDetector\",\n",
    "    \"nsamples\": 1,\n",
    "    \"samples\": {\n",
    "        \"names\": [\"MyLittleSample\"],\n",
    "        \"energyrange\": [0.1, 1e5],\n",
    "    },\n",
    "})"
   ]
  },
  {
   "cell_type": "markdown",
   "metadata": {},
   "source": [
    "### Effective area / acceptance inputs"
   ]
  },
  {
   "cell_type": "markdown",
   "metadata": {},
   "source": [
    "The detector response should be characterized by the acceptance for a given neutrino spectrum. For instance, assuming a flux $\\frac{dN}{dE} = \\phi (E/{\\rm GeV})^{-\\gamma}$ (with $\\phi$ in ${\\rm GeV}^{-1} {\\rm cm}^{-2}$), the corresponding acceptance for $E^{-\\gamma}$ spectrum is defined as the ratio between the expected number of signal events for such a flux and $\\phi$: \n",
    "\\begin{equation*}\n",
    "\\textrm{Acceptance} = N_{\\rm sig} / \\phi\n",
    "\\end{equation*}\n",
    "It has units of ${\\rm GeV} {\\rm cm}^2$. When the source direction is not known (as it is the case for GW), this acceptance is usually a function of the source direction $\\Omega$:\n",
    "\\begin{equation*}\n",
    "\\textrm{Acceptance}(\\Omega) = N_{\\rm sig}(\\Omega) / \\phi\n",
    "\\end{equation*}"
   ]
  },
  {
   "cell_type": "markdown",
   "metadata": {},
   "source": [
    "Acceptance may be estimated directly from Monte Carlo, but it may also be computed starting from the detector effective area. The effective area is the function that, when convoluted with the neutrino spectrum, gives the expected number of signal events:\n",
    "\\begin{equation*}\n",
    "N_{\\rm sig}(\\Omega) = \\int_{E_{\\min}}^{E_{\\max}} A_{\\rm eff}(E, \\Omega) \\times \\frac{dN}{dE} dE\n",
    "\\end{equation*}\n",
    "where the effective area $A_{\\rm eff}(E, \\Omega)$ is expressed in ${\\rm cm}^2$.\n",
    "So, for an $E^{-\\gamma}$ spectrum:\n",
    "\\begin{equation*}\n",
    "\\textrm{Acceptance}(\\Omega) = \\int_{E_{\\min}}^{E_{\\max}} A_{\\rm eff}(E, \\Omega) \\times (E/GeV)^{-\\gamma} dE\n",
    "\\end{equation*}"
   ]
  },
  {
   "cell_type": "markdown",
   "metadata": {},
   "source": [
    "For JANG, the acceptance are to be provided as HealPix map with a given resolution `nside`. See [tutorial here](https://healpy.readthedocs.io/en/latest/tutorial.html)."
   ]
  },
  {
   "cell_type": "markdown",
   "metadata": {},
   "source": [
    "The ANTARES acceptances defined below are rough estimates from [JCAP 04 (2023) 004](https://doi.org/10.1088/1475-7516/2023/04/004). The exact values used in the actual analysis are direction-dependent and GW-dependent (as the analysis cuts are optimized independently for each GW alert)."
   ]
  },
  {
   "cell_type": "code",
   "execution_count": 6,
   "metadata": {},
   "outputs": [],
   "source": [
    "# defining average acceptances for ANTARES (per half-sky)\n",
    "nside = 8\n",
    "ra, dec = hp.pix2ang(nside, np.arange(hp.nside2npix(nside)), lonlat=True)\n",
    "alt, az = antares.radec_to_altaz(ra*u.deg, dec*u.deg, gw.jd)\n",
    "upgoing, downgoing = alt <= 0, alt > 0\n",
    "# upgoing samples (acc=0 for downgoing sky)\n",
    "acceptance_antares_uptracks = np.zeros(hp.nside2npix(nside))\n",
    "acceptance_antares_uptracks[upgoing] = 2\n",
    "acceptance_antares_upshowers = np.zeros(hp.nside2npix(nside))\n",
    "acceptance_antares_upshowers[upgoing] = 1\n",
    "# downoing samples (acc=0 for upgoing sky)\n",
    "acceptance_antares_downtracks = np.zeros(hp.nside2npix(nside))\n",
    "acceptance_antares_downtracks[downgoing] = 0.5\n",
    "acceptance_antares_downshowers = np.zeros(hp.nside2npix(nside))\n",
    "acceptance_antares_downshowers[downgoing] = 0.4"
   ]
  },
  {
   "cell_type": "code",
   "execution_count": 7,
   "metadata": {},
   "outputs": [
    {
     "name": "stdout",
     "output_type": "stream",
     "text": [
      "Welcome to JupyROOT 6.30/04\n"
     ]
    }
   ],
   "source": [
    "# defining acceptances from effective area for Super-Kamiokande (effective area class in \"superkamiokande\" example)\n",
    "# we estimate it for E^-2 spectrum \n",
    "# YOU NEED PYROOT BINDING FOR THIS PART\n",
    "try:\n",
    "    from superkamiokande import EffectiveAreaSK\n",
    "    acceptance_superkamiokande = {}\n",
    "    for sample in superkamiokande.samples:\n",
    "        effectivearea = EffectiveAreaSK(filename=\"input_files/effarea_superk.root\", sample=sample)\n",
    "        acceptance_superkamiokande[sample.shortname] = effectivearea.to_acceptance(superkamiokande, nside, gw.jd, \"x**-2\")\n",
    "except ModuleNotFoundError:\n",
    "    print(\"ROOT not found, just setting some fake values\")   \n",
    "    acceptance_superkamiokande = {}\n",
    "    for sample in superkamiokande.samples:\n",
    "        acceptance_superkamiokande[sample.shortname] = 0.5 * np.ones(hp.nside2npix(nside))\n",
    "\n",
    "# defining uniform acceptance for MyDetector\n",
    "acceptance_mydet = np.ones(hp.nside2npix(nside))\n",
    "    \n",
    "# filling acceptances to the Detector objects\n",
    "antares.set_acceptances([acceptance_antares_uptracks, \n",
    "                         acceptance_antares_upshowers, \n",
    "                         acceptance_antares_downtracks, \n",
    "                         acceptance_antares_downshowers],\n",
    "                        \"x**-2\", nside=nside)\n",
    "superkamiokande.set_acceptances([acceptance_superkamiokande[s] for s in [\"FC\", \"PC\", \"UPMU\"]],\n",
    "                                \"x**-2\", nside=nside)\n",
    "mydetector.set_acceptances([acceptance_mydet], \"x**-2\", nside=nside)"
   ]
  },
  {
   "cell_type": "markdown",
   "metadata": {},
   "source": [
    "### Observation inputs"
   ]
  },
  {
   "cell_type": "markdown",
   "metadata": {},
   "source": [
    "The other main ingredients on the neutrino side are the observed and expected number of events in the different samples. The observed number of events is just an integer. The expected one may be provided in different formats that are presented below."
   ]
  },
  {
   "cell_type": "code",
   "execution_count": 8,
   "metadata": {},
   "outputs": [],
   "source": [
    "# ANTARES background taken as a Gaussian prior with different mean for each sample and 20% error\n",
    "bkg_antares = [BackgroundGaussian(b, 0.20 * b) for b in [2.7e-3, 2.7e-3, 2.7e-3, 2.7e-3]]\n",
    "# ANTARES observed number of events\n",
    "nobs_antares = [0, 0, 0, 0]\n",
    "\n",
    "# Super-Kamiokande background taken as a fixed value with no uncertainties\n",
    "bkg_superkamiokande = [BackgroundFixed(b) for b in [0.112, 0.007, 0.016]]\n",
    "# Super-Kamiokande observed number of events\n",
    "nobs_superkamiokande = [0, 0, 0]\n",
    "\n",
    "# Background from an OFF measurement where alpha_offon is the ratio between the size (time/angular) of OFF and ON regions\n",
    "bkg_mydet = [BackgroundPoisson(20, alpha_offon=50)]\n",
    "# Observed number of events\n",
    "nobs_mydet = [0]\n",
    "\n",
    "# Filling values to the detector objects\n",
    "antares.set_observations(nobs_antares, bkg_antares)\n",
    "superkamiokande.set_observations(nobs_superkamiokande, bkg_superkamiokande)\n",
    "mydetector.set_observations(nobs_mydet, bkg_mydet)"
   ]
  },
  {
   "cell_type": "markdown",
   "metadata": {},
   "source": [
    "# Computing the limits per detector"
   ]
  },
  {
   "cell_type": "markdown",
   "metadata": {},
   "source": [
    "### Compute limits on the flux\n",
    "As all acceptances were provided for $E^{-2}$, this will be the limit on $\\phi$ for $dN/dE = \\phi \\times (E/GeV)^{-2}$."
   ]
  },
  {
   "cell_type": "code",
   "execution_count": 9,
   "metadata": {},
   "outputs": [
    {
     "name": "stderr",
     "output_type": "stream",
     "text": [
      "[2024-05-10 14:44:56,976:jang:INFO] [Limits] GW190412, ANTARES, x**-2, limit(Flux) = 1.518e+01\n",
      "[2024-05-10 14:44:58,584:jang:INFO] [Limits] GW190412, Super-Kamiokande, x**-2, limit(Flux) = 1.080e+02\n",
      "[2024-05-10 14:45:00,297:jang:INFO] [Limits] GW190412, MyLittleDetector, x**-2, limit(Flux) = 1.366e+01\n"
     ]
    }
   ],
   "source": [
    "limit_flux_antares = limits.get_limit_flux(antares, gw, parameters)\n",
    "limit_flux_superkamiokande = limits.get_limit_flux(superkamiokande, gw, parameters)\n",
    "limit_flux_mydet = limits.get_limit_flux(mydetector, gw, parameters)"
   ]
  },
  {
   "cell_type": "markdown",
   "metadata": {},
   "source": [
    "We can also skymaps where there is no marginalisation over source direction anymore"
   ]
  },
  {
   "cell_type": "code",
   "execution_count": 10,
   "metadata": {},
   "outputs": [
    {
     "data": {
      "image/png": "[encoded data removed]",
      "text/plain": [
       "<Figure size 850x540 with 2 Axes>"
      ]
     },
     "metadata": {},
     "output_type": "display_data"
    }
   ],
   "source": [
    "limitmap_flux_antares = limits.get_limitmap_flux(antares, gw, parameters)\n",
    "hp.mollview(limitmap_flux_antares, rot=180, cmap=\"Blues\", fig=1, title=\"ANTARES\", min=0)"
   ]
  },
  {
   "cell_type": "markdown",
   "metadata": {},
   "source": [
    "### Compute limits on the total energy emitted in neutrinos\n",
    "\n",
    "This takes benefit from the source distance provided in the GW h5 file. The default option is to ask for the isotropic energy: $E_{\\rm iso} = 4\\pi d^2 \\int E \\times \\frac{dn}{dE} dE$. But, changing the parameter object, it is also possible to consider some jetted emission."
   ]
  },
  {
   "cell_type": "code",
   "execution_count": 11,
   "metadata": {},
   "outputs": [
    {
     "name": "stderr",
     "output_type": "stream",
     "text": [
      "[2024-05-10 14:45:11,721:jang:INFO] [Limits] GW190412, ANTARES, Isotropic, x**-2, limit(Etot) = 2.951e+55 erg\n",
      "[2024-05-10 14:45:15,095:jang:INFO] [Limits] GW190412, Super-Kamiokande, Isotropic, x**-2, limit(Etot) = 2.101e+56 erg\n",
      "[2024-05-10 14:45:16,853:jang:INFO] [Limits] GW190412, MyLittleDetector, Isotropic, x**-2, limit(Etot) = 2.656e+55 erg\n"
     ]
    }
   ],
   "source": [
    "# isotropic\n",
    "limit_eiso_antares = limits.get_limit_etot(antares, gw, parameters)\n",
    "limit_eiso_superkamiokande = limits.get_limit_etot(superkamiokande, gw, parameters)\n",
    "limit_eiso_mydet = limits.get_limit_etot(mydetector, gw, parameters)"
   ]
  },
  {
   "cell_type": "code",
   "execution_count": 12,
   "metadata": {},
   "outputs": [
    {
     "name": "stderr",
     "output_type": "stream",
     "text": [
      "[2024-05-10 14:45:18,745:jang:INFO] [Limits] GW190412, ANTARES, VonMises,50.0 deg, x**-2, limit(Etot) = 1.711e+55 erg\n",
      "[2024-05-10 14:45:20,532:jang:INFO] [Limits] GW190412, Super-Kamiokande, VonMises,50.0 deg, x**-2, limit(Etot) = 1.221e+56 erg\n",
      "[2024-05-10 14:45:22,276:jang:INFO] [Limits] GW190412, MyLittleDetector, VonMises,50.0 deg, x**-2, limit(Etot) = 1.540e+55 erg\n"
     ]
    }
   ],
   "source": [
    "# jetted emission with Von Mises model and jet opening = 50 deg (unreasonably large just for the example)\n",
    "parameters_jetted = Parameters(\"input_files/config.yaml\")\n",
    "parameters_jetted.set_models(\"x**-2\", jang.utils.conversions.JetVonMises(np.deg2rad(50)))\n",
    "limit_etotVM_antares = limits.get_limit_etot(antares, gw, parameters_jetted)\n",
    "limit_etotVM_superkamiokande = limits.get_limit_etot(superkamiokande, gw, parameters_jetted)\n",
    "limit_etotVM_mydet = limits.get_limit_etot(mydetector, gw, parameters_jetted)"
   ]
  },
  {
   "cell_type": "markdown",
   "metadata": {},
   "source": [
    "### Compute limits on the ratio between neutrino and GW energies\n",
    "\n",
    "This takes benefit from the source distance **and the radiated energy** provided in the GW h5 file. The default option is still with isotropic energy: $f_{\\nu} = E_{\\rm iso} / E_{\\rm GW}$, but other options can be investigated as above."
   ]
  },
  {
   "cell_type": "code",
   "execution_count": 13,
   "metadata": {},
   "outputs": [
    {
     "name": "stderr",
     "output_type": "stream",
     "text": [
      "[2024-05-10 14:45:25,885:jang:INFO] [Limits] GW190412, ANTARES, Isotropic, x**-2, limit(fnu) = 1.482e+01\n",
      "[2024-05-10 14:45:30,223:jang:INFO] [Limits] GW190412, Super-Kamiokande, Isotropic, x**-2, limit(fnu) = 1.055e+02\n",
      "[2024-05-10 14:45:34,730:jang:INFO] [Limits] GW190412, MyLittleDetector, Isotropic, x**-2, limit(fnu) = 1.334e+01\n"
     ]
    }
   ],
   "source": [
    "# isotropic\n",
    "limit_fnuiso_antares = limits.get_limit_fnu(antares, gw, parameters)\n",
    "limit_fnuiso_superkamiokande = limits.get_limit_fnu(superkamiokande, gw, parameters)\n",
    "limit_fnuiso_mydet = limits.get_limit_fnu(mydetector, gw, parameters)"
   ]
  },
  {
   "cell_type": "markdown",
   "metadata": {},
   "source": [
    "# Computing the limits combining detectors"
   ]
  },
  {
   "cell_type": "code",
   "execution_count": 14,
   "metadata": {},
   "outputs": [
    {
     "name": "stderr",
     "output_type": "stream",
     "text": [
      "[2024-05-10 14:45:34,875:jang:INFO] [SuperDetector] Detector ANTARES is added to the SuperDetector.\n",
      "[2024-05-10 14:45:34,877:jang:INFO] [SuperDetector] Detector Super-Kamiokande is added to the SuperDetector.\n",
      "[2024-05-10 14:45:38,725:jang:INFO] [Limits] GW190412, ANTARES + Super-Kamiokande, x**-2, limit(Flux) = 1.331e+01\n",
      "[2024-05-10 14:45:42,804:jang:INFO] [Limits] GW190412, ANTARES + Super-Kamiokande, Isotropic, x**-2, limit(Etot) = 2.587e+55 erg\n"
     ]
    }
   ],
   "source": [
    "# define combined detector\n",
    "combined_det = SuperNuDetector(\"ANTARES + Super-Kamiokande\")\n",
    "combined_det.add_detector(antares)\n",
    "combined_det.add_detector(superkamiokande)\n",
    "\n",
    "# get upper limit on flux\n",
    "limit_flux_combined = limits.get_limit_flux(combined_det, gw, parameters)\n",
    "limit_eiso_combined = limits.get_limit_etot(combined_det, gw, parameters)"
   ]
  },
  {
   "cell_type": "code",
   "execution_count": 15,
   "metadata": {},
   "outputs": [
    {
     "name": "stdout",
     "output_type": "stream",
     "text": [
      "Limit with ANTARES -> 1.52e+01 GeV^-1 cm^-2\n",
      "Limit with Super-Kamiokande -> 1.08e+02 GeV^-1 cm^-2\n",
      "Best of the two -> 1.52e+01 GeV^-1 cm^-2\n",
      "Limit with ANTARES+Super-Kamiokande -> 1.33e+01 GeV^-1 cm^-2\n",
      "Relative improvement -> 14.05%\n"
     ]
    }
   ],
   "source": [
    "# compare with per-detector limits\n",
    "print(f\"Limit with ANTARES -> {limit_flux_antares:.2e} GeV^-1 cm^-2\")\n",
    "print(f\"Limit with Super-Kamiokande -> {limit_flux_superkamiokande:.2e} GeV^-1 cm^-2\")\n",
    "print(f\"Best of the two -> {min(limit_flux_antares, limit_flux_superkamiokande):.2e} GeV^-1 cm^-2\")\n",
    "#\n",
    "print(f\"Limit with ANTARES+Super-Kamiokande -> {limit_flux_combined:.2e} GeV^-1 cm^-2\")\n",
    "print(f\"Relative improvement -> {100*min(limit_flux_antares, limit_flux_superkamiokande)/limit_flux_combined -100:.2f}%\")"
   ]
  },
  {
   "cell_type": "markdown",
   "metadata": {},
   "source": [
    "### Redoing the same for E^-3 spectrum"
   ]
  },
  {
   "cell_type": "code",
   "execution_count": 16,
   "metadata": {},
   "outputs": [],
   "source": [
    "# still dummy acceptances\n",
    "antares.set_acceptances([0.0010 * np.ones(hp.nside2npix(8)), \n",
    "                         0.0005 * np.ones(hp.nside2npix(8)), \n",
    "                         0.0003 * np.ones(hp.nside2npix(8)), \n",
    "                         0.0002 * np.ones(hp.nside2npix(8))],\n",
    "                        \"x**-3\", nside=8)\n",
    "\n",
    "try:\n",
    "    from superkamiokande import EffectiveAreaSK\n",
    "    acceptance_superkamiokande = {}\n",
    "    for sample in superkamiokande.samples:\n",
    "        effectivearea = EffectiveAreaSK(filename=\"input_files/effarea_superk.root\", sample=sample)\n",
    "        acceptance_superkamiokande[sample.shortname] = effectivearea.to_acceptance(superkamiokande, 8, gw.jd, \"x**-3\")\n",
    "except ModuleNotFoundError:\n",
    "    print(\"ROOT not found, just setting some fake values\")   \n",
    "    acceptance_superkamiokande = {}\n",
    "    for sample in superkamiokande.samples:\n",
    "        acceptance_superkamiokande[sample.shortname] = 0.5 * np.ones(hp.nside2npix(8))\n",
    "\n",
    "superkamiokande.set_acceptances([acceptance_superkamiokande[s] for s in [\"FC\", \"PC\", \"UPMU\"]],\n",
    "                                \"x**-3\", nside=8)"
   ]
  },
  {
   "cell_type": "code",
   "execution_count": 17,
   "metadata": {},
   "outputs": [
    {
     "name": "stderr",
     "output_type": "stream",
     "text": [
      "[2024-05-10 14:49:44,581:jang:INFO] [Limits] GW190412, ANTARES, x**-3, limit(Flux) = 6.829e+03\n",
      "[2024-05-10 14:49:46,278:jang:INFO] [Limits] GW190412, Super-Kamiokande, x**-3, limit(Flux) = 6.999e+03\n",
      "[2024-05-10 14:49:48,155:jang:INFO] [Limits] GW190412, ANTARES + Super-Kamiokande, x**-3, limit(Flux) = 3.456e+03\n",
      "[2024-05-10 14:49:50,346:jang:INFO] [Limits] GW190412, ANTARES, Isotropic, x**-3, limit(Etot) = 1.580e+56 erg\n",
      "[2024-05-10 14:49:52,489:jang:INFO] [Limits] GW190412, Super-Kamiokande, Isotropic, x**-3, limit(Etot) = 1.619e+56 erg\n",
      "[2024-05-10 14:49:54,602:jang:INFO] [Limits] GW190412, ANTARES + Super-Kamiokande, Isotropic, x**-3, limit(Etot) = 7.996e+55 erg\n"
     ]
    }
   ],
   "source": [
    "parameters_3 = Parameters(\"input_files/config.yaml\")\n",
    "parameters_3.set_models(\"x**-3\", jang.utils.conversions.JetIsotropic())\n",
    "\n",
    "limit_flux_antares_3 = limits.get_limit_flux(antares, gw, parameters_3)\n",
    "limit_flux_superkamiokande_3 = limits.get_limit_flux(superkamiokande, gw, parameters_3)\n",
    "limit_flux_combined_3 = limits.get_limit_flux(combined_det, gw, parameters_3)\n",
    "limit_eiso_antares_3 = limits.get_limit_etot(antares, gw, parameters_3)\n",
    "limit_eiso_superkamiokande_3 = limits.get_limit_etot(superkamiokande, gw, parameters_3)\n",
    "limit_eiso_combined_3 = limits.get_limit_etot(combined_det, gw, parameters_3)"
   ]
  },
  {
   "cell_type": "code",
   "execution_count": 18,
   "metadata": {},
   "outputs": [
    {
     "name": "stdout",
     "output_type": "stream",
     "text": [
      "Limit with ANTARES -> 6.83e+03 GeV^-1 cm^-2\n",
      "Limit with Super-Kamiokande -> 7.00e+03 GeV^-1 cm^-2\n",
      "Best of the two -> 6.83e+03 GeV^-1 cm^-2\n",
      "Limit with ANTARES+Super-Kamiokande -> 3.46e+03 GeV^-1 cm^-2\n",
      "Relative improvement -> 97.61%\n"
     ]
    }
   ],
   "source": [
    "# compare with per-detector limits\n",
    "print(f\"Limit with ANTARES -> {limit_flux_antares_3:.2e} GeV^-1 cm^-2\")\n",
    "print(f\"Limit with Super-Kamiokande -> {limit_flux_superkamiokande_3:.2e} GeV^-1 cm^-2\")\n",
    "print(f\"Best of the two -> {min(limit_flux_antares_3, limit_flux_superkamiokande_3):.2e} GeV^-1 cm^-2\")\n",
    "#\n",
    "print(f\"Limit with ANTARES+Super-Kamiokande -> {limit_flux_combined_3:.2e} GeV^-1 cm^-2\")\n",
    "print(f\"Relative improvement -> {100*min(limit_flux_antares_3, limit_flux_superkamiokande_3)/limit_flux_combined_3 -100:.2f}%\")"
   ]
  },
  {
   "cell_type": "markdown",
   "metadata": {},
   "source": [
    "### Making some final plot"
   ]
  },
  {
   "cell_type": "code",
   "execution_count": 19,
   "metadata": {},
   "outputs": [
    {
     "data": {
      "text/plain": [
       "<matplotlib.legend.Legend at 0x7f94757c2f10>"
      ]
     },
     "execution_count": 19,
     "metadata": {},
     "output_type": "execute_result"
    },
    {
     "data": {
      "image/png": "[encoded data removed]",
      "text/plain": [
       "<Figure size 640x480 with 1 Axes>"
      ]
     },
     "metadata": {},
     "output_type": "display_data"
    }
   ],
   "source": [
    "plt.plot([2,3], [limit_flux_antares, limit_flux_antares_3], color=\"blue\", label=\"ANTARES\", marker=\"x\", markersize=12)\n",
    "plt.plot([2,3], [limit_flux_superkamiokande, limit_flux_superkamiokande_3], color=\"orange\", label=\"Super-Kamiokande\", marker=\"+\", markersize=12)\n",
    "plt.plot([2,3], [limit_flux_combined, limit_flux_combined_3], color=\"black\", label=\"Combined\", marker=\"*\", markersize=12)\n",
    "plt.xlabel(\"Spectral index\")\n",
    "plt.ylabel(r\"Limit on flux [/GeV/cm$^{2}$]\")\n",
    "plt.yscale(\"log\")\n",
    "plt.legend(loc=\"best\")"
   ]
  },
  {
   "cell_type": "code",
   "execution_count": 20,
   "metadata": {},
   "outputs": [
    {
     "data": {
      "text/plain": [
       "<matplotlib.legend.Legend at 0x7f9475732f90>"
      ]
     },
     "execution_count": 20,
     "metadata": {},
     "output_type": "execute_result"
    },
    {
     "data": {
      "image/png": "[encoded data removed]",
      "text/plain": [
       "<Figure size 640x480 with 1 Axes>"
      ]
     },
     "metadata": {},
     "output_type": "display_data"
    }
   ],
   "source": [
    "plt.plot([2,3], [limit_eiso_antares, limit_eiso_antares_3], color=\"blue\", label=\"ANTARES\", marker=\"x\", markersize=12)\n",
    "plt.plot([2,3], [limit_eiso_superkamiokande, limit_eiso_superkamiokande_3], color=\"orange\", label=\"Super-Kamiokande\", marker=\"+\", markersize=12)\n",
    "plt.plot([2,3], [limit_eiso_combined, limit_eiso_combined_3], color=\"black\", label=\"Combined\", marker=\"*\", markersize=12)\n",
    "plt.xlabel(\"Spectral index\")\n",
    "plt.ylabel(r\"Limit on $E_{iso}$ [erg]\")\n",
    "plt.yscale(\"log\")\n",
    "plt.legend(loc=\"best\")"
   ]
  }
 ],
 "metadata": {
  "kernelspec": {
   "display_name": "Python 3.12.2 ('env_jang')",
   "language": "python",
   "name": "python3"
  },
  "language_info": {
   "codemirror_mode": {
    "name": "ipython",
    "version": 3
   },
   "file_extension": ".py",
   "mimetype": "text/x-python",
   "name": "python",
   "nbconvert_exporter": "python",
   "pygments_lexer": "ipython3",
   "version": "3.11.9"
  },
  "orig_nbformat": 4,
  "vscode": {
   "interpreter": {
    "hash": "43734573802e65a7b60f3cff6ee0f44fa9a266b38a3a68c81ea5fc1e753cea10"
   }
  }
 },
 "nbformat": 4,
 "nbformat_minor": 2
}
