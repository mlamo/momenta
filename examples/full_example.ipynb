{
 "cells": [
  {
   "cell_type": "code",
   "execution_count": 1,
   "metadata": {},
   "outputs": [
    {
     "ename": "ModuleNotFoundError",
     "evalue": "No module named 'momenta'",
     "output_type": "error",
     "traceback": [
      "\u001b[0;31m---------------------------------------------------------------------------\u001b[0m",
      "\u001b[0;31mModuleNotFoundError\u001b[0m                       Traceback (most recent call last)",
      "Cell \u001b[0;32mIn[1], line 9\u001b[0m\n\u001b[1;32m      6\u001b[0m \u001b[39mimport\u001b[39;00m \u001b[39mnumpy\u001b[39;00m \u001b[39mas\u001b[39;00m \u001b[39mnp\u001b[39;00m\n\u001b[1;32m      7\u001b[0m \u001b[39mimport\u001b[39;00m \u001b[39mastropy\u001b[39;00m\u001b[39m.\u001b[39;00m\u001b[39munits\u001b[39;00m \u001b[39mas\u001b[39;00m \u001b[39mu\u001b[39;00m\n\u001b[0;32m----> 9\u001b[0m \u001b[39mimport\u001b[39;00m \u001b[39mmomenta\u001b[39;00m\u001b[39m.\u001b[39;00m\u001b[39mutils\u001b[39;00m\u001b[39m.\u001b[39;00m\u001b[39mflux\u001b[39;00m \u001b[39mas\u001b[39;00m \u001b[39mflux\u001b[39;00m\n\u001b[1;32m     10\u001b[0m \u001b[39mfrom\u001b[39;00m \u001b[39mmomenta\u001b[39;00m\u001b[39m.\u001b[39;00m\u001b[39mio\u001b[39;00m \u001b[39mimport\u001b[39;00m GW, NuDetector, SuperNuDetector, Parameters\n\u001b[1;32m     11\u001b[0m \u001b[39mfrom\u001b[39;00m \u001b[39mmomenta\u001b[39;00m\u001b[39m.\u001b[39;00m\u001b[39mio\u001b[39;00m\u001b[39m.\u001b[39;00m\u001b[39mneutrinos\u001b[39;00m \u001b[39mimport\u001b[39;00m  BackgroundFixed, BackgroundPoisson, EffectiveAreaAllSky\n",
      "\u001b[0;31mModuleNotFoundError\u001b[0m: No module named 'momenta'"
     ]
    }
   ],
   "source": [
    "import warnings\n",
    "warnings.filterwarnings(\"ignore\", \"Wswiglal-redir-stdio\")\n",
    "\n",
    "import healpy as hp\n",
    "import matplotlib.pyplot as plt\n",
    "import numpy as np\n",
    "import astropy.units as u\n",
    "\n",
    "import momenta.utils.flux as flux\n",
    "from momenta.io import GW, NuDetector, SuperNuDetector, Parameters\n",
    "from momenta.io.neutrinos import  BackgroundFixed, BackgroundPoisson, EffectiveAreaAllSky\n",
    "from momenta.stats.run import run_ultranest\n",
    "from momenta.stats.limits import get_limits"
   ]
  },
  {
   "cell_type": "markdown",
   "metadata": {},
   "source": [
    "# Starting remarks\n",
    "* For the notebook to run, you need to install `momenta` as a package (`pip install -e .` from the root directory).\n",
    "* It is better to keep this code at its current location as there are some relative paths defined here, though you may modify it."
   ]
  },
  {
   "cell_type": "markdown",
   "metadata": {},
   "source": [
    "# Setup"
   ]
  },
  {
   "cell_type": "markdown",
   "metadata": {},
   "source": [
    "## General parameters"
   ]
  },
  {
   "cell_type": "code",
   "execution_count": null,
   "metadata": {},
   "outputs": [],
   "source": [
    "parameters = Parameters(\"input_files/config.yaml\")\n",
    "parameters.set_models(flux=flux.FluxFixedPowerLaw(1, 1e6, 2, eref=1))"
   ]
  },
  {
   "cell_type": "markdown",
   "metadata": {},
   "source": [
    "## GW-side definitions"
   ]
  },
  {
   "cell_type": "code",
   "execution_count": null,
   "metadata": {},
   "outputs": [],
   "source": [
    "gw = GW(\n",
    "        name=\"GW190412\", \n",
    "        path_to_fits=\"input_files/gw_catalogs/GW190412/GW190412_PublicationSamples.fits\", \n",
    "        path_to_samples=\"input_files/gw_catalogs/GW190412/GW190412_subset.h5\"\n",
    ")\n",
    "gw.set_parameters(parameters)"
   ]
  },
  {
   "cell_type": "markdown",
   "metadata": {},
   "source": [
    "## Neutrino-side definitions"
   ]
  },
  {
   "cell_type": "markdown",
   "metadata": {},
   "source": [
    "### Detector definitions"
   ]
  },
  {
   "cell_type": "markdown",
   "metadata": {},
   "source": [
    "We use input file to define Super-Kamiokande detector but we can also use directly a dictionary to build a new detector (here with only one sample)"
   ]
  },
  {
   "cell_type": "code",
   "execution_count": null,
   "metadata": {},
   "outputs": [],
   "source": [
    "superkamiokande = NuDetector(\"input_files/detector_superk.yaml\")\n",
    "mydetector = NuDetector({\n",
    "    \"name\": \"MyLittleDetector\",\n",
    "    \"samples\": [\"MyLittleSample\"],\n",
    "})"
   ]
  },
  {
   "cell_type": "markdown",
   "metadata": {},
   "source": [
    "### Effective area input"
   ]
  },
  {
   "cell_type": "markdown",
   "metadata": {},
   "source": [
    "The detector response of any neutrino sample is especially characterized by their effective area. The effective area is the function that, when convoluted with the neutrino spectrum, gives the expected number of signal events:\n",
    "\\begin{equation*}\n",
    "N_{\\rm sig}(\\Omega) = \\int_{E_{\\min}}^{E_{\\max}} A_{\\rm eff}(E, \\Omega) \\times \\frac{dN}{dE} dE\n",
    "\\end{equation*}\n",
    "where the effective area $A_{\\rm eff}(E, \\Omega)$ is expressed in ${\\rm cm}^2$."
   ]
  },
  {
   "cell_type": "code",
   "execution_count": null,
   "metadata": {},
   "outputs": [],
   "source": [
    "# Super-Kamiokande effective areas are from https://zenodo.org/records/4724823\n",
    "from superkamiokande import EffectiveAreaSK\n",
    "aeffs_sk = []\n",
    "for s in superkamiokande.samples:\n",
    "    aeffs_sk.append(EffectiveAreaSK(\"input_files/effarea_superk.h5\", s.name, gw.utc))\n",
    "superkamiokande.set_effective_areas(aeffs_sk)"
   ]
  },
  {
   "cell_type": "code",
   "execution_count": null,
   "metadata": {},
   "outputs": [],
   "source": [
    "# Custom effective area that is constant over the full sky and just depends on energy\n",
    "class EffAreaMyDet(EffectiveAreaAllSky):\n",
    "    def evaluate(self, energy, ipix, nside):\n",
    "        return 1e-7 * energy**2 * np.exp(-energy/10000)\n",
    "mydetector.set_effective_areas([EffAreaMyDet()])"
   ]
  },
  {
   "cell_type": "markdown",
   "metadata": {},
   "source": [
    "### Observation inputs"
   ]
  },
  {
   "cell_type": "markdown",
   "metadata": {},
   "source": [
    "The other main ingredients on the neutrino side are the observed and expected number of events in the different samples. The observed number of events is just an integer. The expected one may be provided in different formats that are presented below."
   ]
  },
  {
   "cell_type": "code",
   "execution_count": null,
   "metadata": {},
   "outputs": [],
   "source": [
    "# Super-Kamiokande background taken as a fixed value with no uncertainties\n",
    "bkg_superkamiokande = [BackgroundFixed(b) for b in [0.112, 0.007, 0.016]]\n",
    "# Super-Kamiokande observed number of events\n",
    "nobs_superkamiokande = [0, 0, 0]\n",
    "\n",
    "# Background from an OFF measurement where alpha_offon is the ratio between the size (time/angular) of OFF and ON regions\n",
    "bkg_mydet = [BackgroundPoisson(20, alpha_offon=50)]\n",
    "# Observed number of events\n",
    "nobs_mydet = [0]\n",
    "\n",
    "# Filling values to the detector objects\n",
    "superkamiokande.set_observations(nobs_superkamiokande, bkg_superkamiokande)\n",
    "mydetector.set_observations(nobs_mydet, bkg_mydet)"
   ]
  },
  {
   "cell_type": "markdown",
   "metadata": {},
   "source": [
    "# Computing the limits per detector"
   ]
  },
  {
   "cell_type": "markdown",
   "metadata": {},
   "source": [
    "### Compute limits on the flux for E^-2 spectrum"
   ]
  },
  {
   "cell_type": "code",
   "execution_count": null,
   "metadata": {},
   "outputs": [],
   "source": [
    "parameters.flux = flux.FluxFixedPowerLaw(1, 1e6, 2, eref=1)\n",
    "#\n",
    "model, result = run_ultranest(superkamiokande, gw, parameters)\n",
    "limit_flux_superkamiokande = get_limits(result[\"samples\"], model)[\"flux0_norm\"]\n",
    "print(f\"Limit on E^2 dN/dE for Super-Kamiokande = {limit_flux_superkamiokande} /GeV/cm²\")\n",
    "#\n",
    "model, result = run_ultranest(mydetector, gw, parameters)\n",
    "limit_flux_mydetector = get_limits(result[\"samples\"], model)[\"flux0_norm\"]\n",
    "print(f\"Limit on E^2 dN/dE for MyDetector = {limit_flux_mydetector} /GeV/cm²\")"
   ]
  },
  {
   "cell_type": "markdown",
   "metadata": {},
   "source": [
    "# Computing the limits combining detectors"
   ]
  },
  {
   "cell_type": "code",
   "execution_count": null,
   "metadata": {},
   "outputs": [],
   "source": [
    "# define combined detector\n",
    "combined_det = SuperNuDetector(\"Super-Kamiokande + MyDetector\")\n",
    "combined_det.add_detector(superkamiokande)\n",
    "combined_det.add_detector(mydetector)\n",
    "\n",
    "# get upper limit on flux\n",
    "model, result = run_ultranest(combined_det, gw, parameters)\n",
    "limit_flux_combined = get_limits(result[\"samples\"], model)[\"flux0_norm\"]\n",
    "print(f\"Limit on E^2 dN/dE for combined = {limit_flux_combined} /GeV/cm²\")"
   ]
  }
 ],
 "metadata": {
  "kernelspec": {
   "display_name": "Python 3.12.3 ('new_momenta')",
   "language": "python",
   "name": "python3"
  },
  "language_info": {
   "codemirror_mode": {
    "name": "ipython",
    "version": 3
   },
   "file_extension": ".py",
   "mimetype": "text/x-python",
   "name": "python",
   "nbconvert_exporter": "python",
   "pygments_lexer": "ipython3",
   "version": "3.12.3"
  },
  "orig_nbformat": 4,
  "vscode": {
   "interpreter": {
    "hash": "07e2bdeba850cef388dd4f37925f8ce97fdad4982e9f9b4014ed2c457109c990"
   }
  }
 },
 "nbformat": 4,
 "nbformat_minor": 2
}
