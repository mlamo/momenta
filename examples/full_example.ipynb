{
 "cells": [
  {
   "cell_type": "code",
   "execution_count": 2,
   "metadata": {},
   "outputs": [],
   "source": [
    "import warnings\n",
    "warnings.filterwarnings(\"ignore\", \"Wswiglal-redir-stdio\")\n",
    "\n",
    "import matplotlib.pyplot as plt\n",
    "import numpy as np\n",
    "\n",
    "import momenta.utils.flux as flux\n",
    "from momenta.io import GW, NuDetector, SuperNuDetector, Parameters\n",
    "from momenta.io.neutrinos import BackgroundFixed, BackgroundPoisson\n",
    "from momenta.io.neutrinos_irfs import EffectiveAreaAllSky\n",
    "from momenta.stats.run import run_ultranest\n",
    "from momenta.stats.constraints import get_limits"
   ]
  },
  {
   "cell_type": "markdown",
   "metadata": {},
   "source": [
    "# Starting remarks\n",
    "* For the notebook to run, you need to install `momenta` as a package (`pip install -e .` from the root directory).\n",
    "* It is better to keep this code at its current location as there are some relative paths defined here, though you may modify it."
   ]
  },
  {
   "cell_type": "markdown",
   "metadata": {},
   "source": [
    "# Setup"
   ]
  },
  {
   "cell_type": "markdown",
   "metadata": {},
   "source": [
    "## General parameters"
   ]
  },
  {
   "cell_type": "code",
   "execution_count": 3,
   "metadata": {},
   "outputs": [],
   "source": [
    "parameters = Parameters(\"input_files/config.yaml\")\n",
    "parameters.set_models(flux=flux.FluxFixedPowerLaw(1, 1e6, 2, eref=1))"
   ]
  },
  {
   "cell_type": "markdown",
   "metadata": {},
   "source": [
    "## GW-side definitions"
   ]
  },
  {
   "cell_type": "code",
   "execution_count": 4,
   "metadata": {},
   "outputs": [
    {
     "name": "stderr",
     "output_type": "stream",
     "text": [
      "[2024-10-29 16:47:58,168:momenta:INFO] [GW] Fits is loaded from the file GW190412_PublicationSamples.fits\n",
      "[2024-10-29 16:47:58,169:momenta:INFO] [GW] Samples are loaded from the file GW190412_subset.h5\n"
     ]
    }
   ],
   "source": [
    "gw = GW(\n",
    "    name=\"GW190412\",\n",
    "    path_to_fits=\"input_files/gw_catalogs/GW190412/GW190412_PublicationSamples.fits\",\n",
    "    path_to_samples=\"input_files/gw_catalogs/GW190412/GW190412_subset.h5\",\n",
    ")\n",
    "gw.set_parameters(parameters)"
   ]
  },
  {
   "cell_type": "markdown",
   "metadata": {},
   "source": [
    "## Neutrino-side definitions"
   ]
  },
  {
   "cell_type": "markdown",
   "metadata": {},
   "source": [
    "### Detector definitions"
   ]
  },
  {
   "cell_type": "markdown",
   "metadata": {},
   "source": [
    "We use input file to define Super-Kamiokande detector but we can also use directly a dictionary to build a new detector (here with only one sample)"
   ]
  },
  {
   "cell_type": "code",
   "execution_count": 5,
   "metadata": {},
   "outputs": [
    {
     "name": "stderr",
     "output_type": "stream",
     "text": [
      "[2024-10-29 16:47:58,209:momenta:INFO] [NuDetector] Object is loaded from a dictionary object.\n",
      "[2024-10-29 16:47:58,210:momenta:INFO] [NuDetector] Object is loaded from a dictionary object.\n"
     ]
    }
   ],
   "source": [
    "det1 = NuDetector(\n",
    "    {\n",
    "        \"name\": \"Detector1\",\n",
    "        \"samples\": [\"SampleA\"],\n",
    "    }\n",
    ")\n",
    "det2 = NuDetector(\n",
    "    {\n",
    "        \"name\": \"Detector2\",\n",
    "        \"samples\": [\"SampleB\"],\n",
    "    }\n",
    ")"
   ]
  },
  {
   "cell_type": "markdown",
   "metadata": {},
   "source": [
    "### Effective area inputs"
   ]
  },
  {
   "cell_type": "markdown",
   "metadata": {},
   "source": [
    "The detector response of any neutrino sample is especially characterized by their effective area. The effective area is the function that, when convoluted with the neutrino spectrum, gives the expected number of signal events:\n",
    "\\begin{equation*}\n",
    "N_{\\rm sig}(\\Omega) = \\int_{E_{\\min}}^{E_{\\max}} A_{\\rm eff}(E, \\Omega) \\times \\frac{dN}{dE} dE\n",
    "\\end{equation*}\n",
    "where the effective area $A_{\\rm eff}(E, \\Omega)$ is expressed in ${\\rm cm}^2$."
   ]
  },
  {
   "cell_type": "code",
   "execution_count": 6,
   "metadata": {},
   "outputs": [],
   "source": [
    "# Custom effective area that is constant over the full sky and just depends on energy\n",
    "class EffAreaDet1(EffectiveAreaAllSky):\n",
    "    def evaluate(self, energy, ipix, nside):\n",
    "        return (energy / 100) ** 2 * np.exp(-energy / 3000)\n",
    "\n",
    "\n",
    "class EffAreaDet2(EffectiveAreaAllSky):\n",
    "    def evaluate(self, energy, ipix, nside):\n",
    "        return (energy / 100) ** 3 * np.exp(-energy / 30000)\n",
    "\n",
    "\n",
    "det1.set_effective_areas([EffAreaDet1()])\n",
    "det2.set_effective_areas([EffAreaDet2()])"
   ]
  },
  {
   "cell_type": "markdown",
   "metadata": {},
   "source": [
    "### Observation inputs"
   ]
  },
  {
   "cell_type": "markdown",
   "metadata": {},
   "source": [
    "The other main ingredients on the neutrino side are the observed and expected number of events in the different samples. The observed number of events is just an integer. The expected one may be provided in different formats that are presented below."
   ]
  },
  {
   "cell_type": "code",
   "execution_count": 7,
   "metadata": {},
   "outputs": [],
   "source": [
    "bkg1 = [BackgroundPoisson(10, 20)]\n",
    "nobs1 = [0]\n",
    "\n",
    "bkg2 = [BackgroundFixed(0.5)]\n",
    "nobs2 = [0]\n",
    "\n",
    "# Filling values to the detector objects\n",
    "det1.set_observations(nobs1, bkg1)\n",
    "det2.set_observations(nobs2, bkg2)"
   ]
  },
  {
   "cell_type": "markdown",
   "metadata": {},
   "source": [
    "# Computing the limits per detector"
   ]
  },
  {
   "cell_type": "markdown",
   "metadata": {},
   "source": [
    "### Compute limits on the flux for E^-2 spectrum"
   ]
  },
  {
   "cell_type": "code",
   "execution_count": 8,
   "metadata": {},
   "outputs": [
    {
     "name": "stdout",
     "output_type": "stream",
     "text": [
      "Limit on E^2 dN/dE for Detector1 = 46.16876198898185 GeV/cm²\n",
      "Limit on E^2 dN/dE for Detector2 = 0.015466734961854375 GeV/cm²\n"
     ]
    }
   ],
   "source": [
    "parameters.flux = flux.FluxFixedPowerLaw(0.1, 1e6, 2, eref=1)\n",
    "#\n",
    "model, result = run_ultranest(det1, gw, parameters)\n",
    "limit1 = get_limits(result[\"samples\"], model)[\"flux0_norm\"]\n",
    "print(f\"Limit on E^2 dN/dE for Detector1 = {limit1} GeV/cm²\")\n",
    "#\n",
    "model, result = run_ultranest(det2, gw, parameters)\n",
    "limit2 = get_limits(result[\"samples\"], model)[\"flux0_norm\"]\n",
    "print(f\"Limit on E^2 dN/dE for Detector2 = {limit2} GeV/cm²\")"
   ]
  },
  {
   "cell_type": "markdown",
   "metadata": {},
   "source": [
    "# Computing the limits combining detectors"
   ]
  },
  {
   "cell_type": "code",
   "execution_count": 9,
   "metadata": {},
   "outputs": [
    {
     "name": "stderr",
     "output_type": "stream",
     "text": [
      "[2024-10-29 16:48:15,527:momenta:INFO] [SuperDetector] Detector Detector1 is added to the SuperDetector.\n",
      "[2024-10-29 16:48:15,528:momenta:INFO] [SuperDetector] Detector Detector2 is added to the SuperDetector.\n"
     ]
    }
   ],
   "source": [
    "# define combined detector\n",
    "combined_det = SuperNuDetector(\"Detector1 + Detector2\")\n",
    "combined_det.add_detector(det1)\n",
    "combined_det.add_detector(det2)\n",
    "\n",
    "# get upper limit on flux\n",
    "gammas = np.linspace(1, 4, 31)\n",
    "limits1, limits2, limitsc = [], [], []\n",
    "for gamma in gammas:\n",
    "    parameters.flux = flux.FluxFixedPowerLaw(0.1, 1e6, gamma)\n",
    "    model, result = run_ultranest(det1, gw, parameters)\n",
    "    limits1.append(get_limits(result[\"samples\"], model)[\"flux0_norm\"])\n",
    "    model, result = run_ultranest(det2, gw, parameters)\n",
    "    limits2.append(get_limits(result[\"samples\"], model)[\"flux0_norm\"])\n",
    "    model, result = run_ultranest(combined_det, gw, parameters)\n",
    "    limitsc.append(get_limits(result[\"samples\"], model)[\"flux0_norm\"])"
   ]
  },
  {
   "cell_type": "code",
   "execution_count": 10,
   "metadata": {},
   "outputs": [
    {
     "data": {
      "text/plain": [
       "<matplotlib.legend.Legend at 0x71891e18b5c0>"
      ]
     },
     "execution_count": 10,
     "metadata": {},
     "output_type": "execute_result"
    },
    {
     "data": {
      "image/png": "[encoded data removed]",
      "text/plain": [
       "<Figure size 640x480 with 1 Axes>"
      ]
     },
     "metadata": {},
     "output_type": "display_data"
    }
   ],
   "source": [
    "plt.plot(gammas, limitsc, color=\"black\", lw=3, label=\"Combined\")\n",
    "plt.plot(gammas, limits1, color=\"darkviolet\", lw=1.5, label=\"Detector1\")\n",
    "plt.plot(gammas, limits2, color=\"forestgreen\", lw=1.5, label=\"Detector2\")\n",
    "plt.xlabel(r\"Spectral index\", fontsize=15)\n",
    "plt.ylabel(r\"Limit on $E^2 dN/dE$ [GeV cm$^{-2}$]\", fontsize=15)\n",
    "plt.yscale(\"log\")\n",
    "plt.legend(loc=\"best\")"
   ]
  }
 ],
 "metadata": {
  "kernelspec": {
   "display_name": "Python 3.12.4 ('mm')",
   "language": "python",
   "name": "python3"
  },
  "language_info": {
   "codemirror_mode": {
    "name": "ipython",
    "version": 3
   },
   "file_extension": ".py",
   "mimetype": "text/x-python",
   "name": "python",
   "nbconvert_exporter": "python",
   "pygments_lexer": "ipython3",
   "version": "3.12.4"
  },
  "orig_nbformat": 4,
  "vscode": {
   "interpreter": {
    "hash": "1b94ffff83ce207601abf3947b8f746c4495a7f193ad19cd5dcefe352ef98ae1"
   }
  }
 },
 "nbformat": 4,
 "nbformat_minor": 2
}
